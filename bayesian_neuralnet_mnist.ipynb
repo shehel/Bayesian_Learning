{
 "cells": [
  {
   "cell_type": "code",
   "execution_count": 1,
   "metadata": {
    "ExecuteTime": {
     "end_time": "2018-03-27T17:56:44.149780Z",
     "start_time": "2018-03-27T17:56:42.790643Z"
    }
   },
   "outputs": [
    {
     "name": "stderr",
     "output_type": "stream",
     "text": [
      "Using TensorFlow backend.\n"
     ]
    }
   ],
   "source": [
    "%matplotlib inline\n",
    "\n",
    "import edward as ed\n",
    "import numpy as np\n",
    "import tensorflow as tf\n",
    "\n",
    "from edward.models import Normal, Categorical, Multinomial, Empirical, PointMass\n",
    "\n",
    "import matplotlib.pyplot as plt\n",
    "from sklearn.metrics import mean_squared_error as mse\n",
    "from keras.datasets import mnist\n",
    "\n",
    "from tqdm import tqdm\n",
    "plt.style.use('ggplot')"
   ]
  },
  {
   "cell_type": "code",
   "execution_count": 2,
   "metadata": {
    "ExecuteTime": {
     "end_time": "2018-03-27T17:56:44.444573Z",
     "start_time": "2018-03-27T17:56:44.151018Z"
    },
    "collapsed": true
   },
   "outputs": [],
   "source": [
    "(x_train, y_train), (x_test, y_test) = mnist.load_data()\n",
    "\n",
    "x_train_flatten = np.array([x.flatten() for x in x_train]) / 256\n",
    "x_test_flatten = np.array([x.flatten() for x in x_test]) / 256"
   ]
  },
  {
   "cell_type": "code",
   "execution_count": 4,
   "metadata": {
    "ExecuteTime": {
     "end_time": "2018-03-27T17:56:50.046784Z",
     "start_time": "2018-03-27T17:56:50.041277Z"
    },
    "collapsed": true
   },
   "outputs": [],
   "source": [
    "#Size of training data\n",
    "N = x_train_flatten.shape[0]\n",
    "K = 10\n",
    "\n",
    "#Batch size\n",
    "M = 128\n",
    "H= 20\n",
    "D = x_train_flatten.shape[1]"
   ]
  },
  {
   "cell_type": "markdown",
   "metadata": {},
   "source": [
    "### Create batches"
   ]
  },
  {
   "cell_type": "code",
   "execution_count": 5,
   "metadata": {
    "ExecuteTime": {
     "end_time": "2018-03-27T17:56:52.206458Z",
     "start_time": "2018-03-27T17:56:52.175650Z"
    },
    "collapsed": true
   },
   "outputs": [],
   "source": [
    "def generator(arrays, batch_size):\n",
    "  \"\"\"Generate batches, one with respect to each array's first axis.\"\"\"\n",
    "  starts = [0] * len(arrays)  # pointers to where we are in iteration\n",
    "  while True:\n",
    "    batches = []\n",
    "    for i, array in enumerate(arrays):\n",
    "      start = starts[i]\n",
    "      stop = start + batch_size\n",
    "      diff = stop - array.shape[0]\n",
    "      if diff <= 0:\n",
    "        batch = array[start:stop]\n",
    "        starts[i] += batch_size\n",
    "      else:\n",
    "        batch = np.concatenate((array[start:], array[:diff]))\n",
    "        starts[i] = diff\n",
    "      batches.append(batch)\n",
    "    yield batches"
   ]
  },
  {
   "cell_type": "code",
   "execution_count": 6,
   "metadata": {
    "ExecuteTime": {
     "end_time": "2018-03-27T17:56:52.451396Z",
     "start_time": "2018-03-27T17:56:52.448822Z"
    },
    "collapsed": true
   },
   "outputs": [],
   "source": [
    "data = generator([x_train_flatten, y_train], M)"
   ]
  },
  {
   "cell_type": "markdown",
   "metadata": {},
   "source": [
    "### Model"
   ]
  },
  {
   "cell_type": "code",
   "execution_count": 7,
   "metadata": {
    "ExecuteTime": {
     "end_time": "2018-03-27T17:57:52.277816Z",
     "start_time": "2018-03-27T17:56:53.999656Z"
    }
   },
   "outputs": [
    {
     "name": "stdout",
     "output_type": "stream",
     "text": [
      "Loss:  {'t': 11700, 'loss': 18764.621}{'t': 1345, 'loss': 34519.465} {'t': 2600, 'loss': 25844.779} {'t': 8265, 'loss': 22445.211} {'t': 11525, 'loss': 30283.859}\r"
     ]
    }
   ],
   "source": [
    "def variables():\n",
    "    x = tf.placeholder(tf.float32, shape=[None, D])\n",
    "    y = tf.placeholder(tf.int32, shape=[None])\n",
    "    \n",
    "    #loc is the mean and scale is the variance\n",
    "    W0 = Normal(loc=tf.zeros([D, H]), scale=tf.ones([D, H]))\n",
    "    W1 = Normal(loc=tf.zeros([H, H]), scale=tf.ones([H, H]))\n",
    "    W2 = Normal(loc=tf.zeros([H, K]), scale=tf.ones([H, K]))\n",
    "    \n",
    "    b0 = Normal(loc=tf.zeros(H), scale=tf.ones(H))\n",
    "    b1 = Normal(loc=tf.zeros(H), scale=tf.ones(H))\n",
    "    b2 = Normal(loc=tf.zeros(K), scale=tf.ones(K))\n",
    "    \n",
    "    return ({'x': x, 'y': y, 'W0': W0, 'b0':b0,'W1': W1, 'b1':b1, 'W2': W2, 'b2': b2})\n",
    "\n",
    "def model(variables, mask):\n",
    "    x = variables['x']\n",
    "    \n",
    "    #layer 1\n",
    "    x = tf.matmul(x, tf.multiply(variables['W0'], mask['W0'])) + tf.multiply(variables['b0'], mask['b0'])\n",
    "    x = tf.tanh(x)\n",
    "    \n",
    "    #layer 2\n",
    "    x = tf.matmul(x, variables['W1']) + variables['b1']\n",
    "    x = tf.nn.tanh(x)\n",
    "    \n",
    "    #layer 3\n",
    "    x = tf.matmul(x, variables['W2']) + variables['b2']\n",
    "    logits = x\n",
    "    \n",
    "    output = Categorical(logits)\n",
    "    \n",
    "    return output\n",
    "\n",
    "def approximation_variables():\n",
    "    qW0 = Normal(loc=tf.Variable(tf.random_normal([D, H])),\n",
    "                  scale=tf.nn.softplus(tf.Variable(tf.random_normal([D, H]))))\n",
    "    qW1 = Normal(loc=tf.Variable(tf.random_normal([H, H])),\n",
    "                  scale=tf.nn.softplus(tf.Variable(tf.random_normal([H, H]))))\n",
    "    qW2 = Normal(loc=tf.Variable(tf.random_normal([H, K])),\n",
    "                  scale=tf.nn.softplus(tf.Variable(tf.random_normal([H, K]))))\n",
    "    qb0 = Normal(loc=tf.Variable(tf.random_normal([H])),\n",
    "                  scale=tf.nn.softplus(tf.Variable(tf.random_normal([H]))))\n",
    "    qb1 = Normal(loc=tf.Variable(tf.random_normal([H])),\n",
    "                  scale=tf.nn.softplus(tf.Variable(tf.random_normal([H]))))\n",
    "    qb2 = Normal(loc=tf.Variable(tf.random_normal([K])),\n",
    "                  scale=tf.nn.softplus(tf.Variable(tf.random_normal([K]))))\n",
    "    variables = {'W0': qW0, 'W1': qW1, 'W2': qW2,\n",
    "                 'b0': qb0, 'b1': qb1, 'b2': qb2}\n",
    "    return variables\n",
    "\n",
    "mask = {'W0':tf.ones([D, H]), 'b0':tf.ones([H])}\n",
    "variables = variables()\n",
    "output = model(variables, mask)\n",
    "q_variables = approximation_variables()\n",
    "\n",
    "inference_dict = {variables[key]: val for key, val in q_variables.items()}\n",
    "inference = ed.KLqp(inference_dict, data={output:variables['y']})\n",
    "\n",
    "n_batch = int(N / M)\n",
    "n_epoch = 5\n",
    "\n",
    "inference.initialize(n_iter=n_batch*n_epoch, n_samples=10,\n",
    "                     scale={output: n_batch})\n",
    "tf.global_variables_initializer().run()\n",
    "for _ in range(inference.n_iter):\n",
    "    X_batch, y_batch = next(data)\n",
    "    for _ in range(5):\n",
    "        info_dict = inference.update(feed_dict={variables['x']: X_batch, variables['y']: y_batch})\n",
    "    print('Loss: ',info_dict,  end=\"\\r\", flush=True)\n"
   ]
  },
  {
   "cell_type": "markdown",
   "metadata": {},
   "source": [
    "## Evaluation"
   ]
  },
  {
   "cell_type": "code",
   "execution_count": 8,
   "metadata": {
    "ExecuteTime": {
     "end_time": "2018-03-27T17:58:37.120485Z",
     "start_time": "2018-03-27T17:58:33.448110Z"
    }
   },
   "outputs": [
    {
     "name": "stderr",
     "output_type": "stream",
     "text": [
      "100%|██████████| 30/30 [00:03<00:00,  8.19it/s]\n"
     ]
    }
   ],
   "source": [
    "n_samples = 30\n",
    "prob_lst = []\n",
    "#Make sample models drawn from posterior\n",
    "samples_lst = []\n",
    "for _ in tqdm(range(n_samples)):\n",
    "    cur_approx = {key: q_variables[key].sample()\n",
    "                      if key in q_variables else variables[key]\n",
    "                      for key in variables}\n",
    "    #samples_lst.append(cur_approx)\n",
    "    probs = tf.nn.softmax(model(cur_approx).logits)\n",
    "    np_probs = probs.eval(feed_dict={cur_approx['x']: x_test_flatten})\n",
    "    prob_lst.append(np_probs)\n"
   ]
  },
  {
   "cell_type": "code",
   "execution_count": 9,
   "metadata": {
    "ExecuteTime": {
     "end_time": "2018-03-27T17:58:37.917285Z",
     "start_time": "2018-03-27T17:58:37.783099Z"
    }
   },
   "outputs": [
    {
     "data": {
      "image/png": "[encoded data removed]",
      "text/plain": [
       "<matplotlib.figure.Figure at 0x7ffa9630f198>"
      ]
     },
     "metadata": {},
     "output_type": "display_data"
    }
   ],
   "source": [
    "accy_test = []\n",
    "for prob in prob_lst:\n",
    "    y_trn_prd = np.argmax(prob,axis=1).astype(np.float32)\n",
    "    acc = (y_trn_prd == y_test).mean()*100\n",
    "    accy_test.append(acc)\n",
    "\n",
    "plt.hist(accy_test)\n",
    "plt.xlabel(\"Accuracy\")\n",
    "plt.ylabel(\"Frequency\")\n",
    "plt.show()"
   ]
  },
  {
   "cell_type": "code",
   "execution_count": 10,
   "metadata": {
    "ExecuteTime": {
     "end_time": "2018-03-27T17:58:40.491160Z",
     "start_time": "2018-03-27T17:58:40.482054Z"
    }
   },
   "outputs": [
    {
     "name": "stdout",
     "output_type": "stream",
     "text": [
      " Accuracy on test set=  94.4\n"
     ]
    }
   ],
   "source": [
    "#Model Averaging\n",
    "y_pred = np.argmax(np.mean(prob_lst,axis=0),axis=1)\n",
    "print(\" Accuracy on test set= \", (y_pred == y_test).mean()*100)"
   ]
  },
  {
   "cell_type": "markdown",
   "metadata": {},
   "source": [
    "## Uncertainty in Predictions"
   ]
  },
  {
   "cell_type": "code",
   "execution_count": 11,
   "metadata": {
    "ExecuteTime": {
     "end_time": "2018-03-27T17:58:42.607012Z",
     "start_time": "2018-03-27T17:58:42.547599Z"
    }
   },
   "outputs": [
    {
     "name": "stdout",
     "output_type": "stream",
     "text": [
      "truth =  7\n"
     ]
    },
    {
     "data": {
      "text/plain": [
       "<matplotlib.image.AxesImage at 0x7ffa747e2da0>"
      ]
     },
     "execution_count": 11,
     "metadata": {},
     "output_type": "execute_result"
    },
    {
     "data": {
      "image/png": "[encoded data removed]",
      "text/plain": [
       "<matplotlib.figure.Figure at 0x7ffb1deaf160>"
      ]
     },
     "metadata": {},
     "output_type": "display_data"
    }
   ],
   "source": [
    "test_ind = 111\n",
    "test_image = x_test_flatten[test_ind]\n",
    "test_label = y_test[test_ind]\n",
    "print('truth = ',test_label)\n",
    "pixels = test_image.reshape((28, 28))\n",
    "plt.imshow(pixels, cmap='Reds')"
   ]
  },
  {
   "cell_type": "code",
   "execution_count": 12,
   "metadata": {
    "ExecuteTime": {
     "end_time": "2018-03-27T17:58:44.352064Z",
     "start_time": "2018-03-27T17:58:44.333775Z"
    },
    "collapsed": true
   },
   "outputs": [],
   "source": [
    "img_probs = []\n",
    "for prob in prob_lst:\n",
    "    y_trn_prd = np.argmax(prob,axis=1).astype(np.float32)\n",
    "    acc = y_trn_prd[test_ind]\n",
    "    img_probs.append(acc)"
   ]
  },
  {
   "cell_type": "code",
   "execution_count": 13,
   "metadata": {
    "ExecuteTime": {
     "end_time": "2018-03-27T17:58:44.685832Z",
     "start_time": "2018-03-27T17:58:44.622294Z"
    }
   },
   "outputs": [
    {
     "data": {
      "image/png": "[encoded data removed]",
      "text/plain": [
       "<matplotlib.figure.Figure at 0x7ffb1deafd68>"
      ]
     },
     "metadata": {},
     "output_type": "display_data"
    }
   ],
   "source": [
    "plt.hist((img_probs),bins=range(10))\n",
    "plt.xlabel(\"Accuracy\")\n",
    "plt.ylabel(\"Frequency\")\n",
    "plt.show()"
   ]
  }
 ],
 "metadata": {
  "kernelspec": {
   "display_name": "Python 3",
   "language": "python",
   "name": "python3"
  },
  "language_info": {
   "codemirror_mode": {
    "name": "ipython",
    "version": 3
   },
   "file_extension": ".py",
   "mimetype": "text/x-python",
   "name": "python",
   "nbconvert_exporter": "python",
   "pygments_lexer": "ipython3",
   "version": "3.6.4"
  }
 },
 "nbformat": 4,
 "nbformat_minor": 2
}

{
 "cells": [
  {
   "cell_type": "markdown",
   "metadata": {},
   "source": [
    "# Bayesian Convolutional Neural Network with Variational Inference"
   ]
  },
  {
   "cell_type": "code",
   "execution_count": 1,
   "metadata": {
    "ExecuteTime": {
     "end_time": "2018-04-04T17:22:29.999227Z",
     "start_time": "2018-04-04T17:22:28.559768Z"
    },
    "collapsed": true
   },
   "outputs": [],
   "source": [
    "%matplotlib inline\n",
    "\n",
    "import numpy as np\n",
    "import tensorflow as tf\n",
    "import edward as ed\n",
    "import matplotlib.pyplot as plt\n",
    "\n",
    "from edward.models import Normal, Categorical\n",
    "from sklearn.model_selection import train_test_split\n",
    "from tensorflow.examples.tutorials.mnist import input_data\n",
    "from scipy.interpolate import UnivariateSpline\n",
    "\n",
    "from tqdm import tqdm\n",
    "plt.style.use('ggplot')"
   ]
  },
  {
   "cell_type": "markdown",
   "metadata": {},
   "source": [
    "## Load Data"
   ]
  },
  {
   "cell_type": "code",
   "execution_count": 2,
   "metadata": {
    "ExecuteTime": {
     "end_time": "2018-04-04T17:22:30.223578Z",
     "start_time": "2018-04-04T17:22:30.000022Z"
    }
   },
   "outputs": [
    {
     "name": "stdout",
     "output_type": "stream",
     "text": [
      "Extracting MNIST_data/train-images-idx3-ubyte.gz\n",
      "Extracting MNIST_data/train-labels-idx1-ubyte.gz\n",
      "Extracting MNIST_data/t10k-images-idx3-ubyte.gz\n",
      "Extracting MNIST_data/t10k-labels-idx1-ubyte.gz\n"
     ]
    }
   ],
   "source": [
    "mnist = input_data.read_data_sets(\"MNIST_data/\")"
   ]
  },
  {
   "cell_type": "code",
   "execution_count": 3,
   "metadata": {
    "ExecuteTime": {
     "end_time": "2018-04-04T17:22:30.226045Z",
     "start_time": "2018-04-04T17:22:30.224375Z"
    },
    "collapsed": true
   },
   "outputs": [],
   "source": [
    "X_train = mnist.train.images\n",
    "y = mnist.train.labels"
   ]
  },
  {
   "cell_type": "markdown",
   "metadata": {},
   "source": [
    "### Small data\n",
    "Bayesian models are extremely powerful when dealing with less data. Training data with 500 samples can give 90%+ accuracy. "
   ]
  },
  {
   "cell_type": "code",
   "execution_count": 6,
   "metadata": {
    "ExecuteTime": {
     "end_time": "2018-04-03T17:50:44.682717Z",
     "start_time": "2018-04-03T17:50:44.640655Z"
    },
    "collapsed": true
   },
   "outputs": [],
   "source": [
    "X_train, X_test, y, y_test = train_test_split(\n",
    "     X_train, y, test_size=0.995, random_state=42, stratify=y)"
   ]
  },
  {
   "cell_type": "code",
   "execution_count": 4,
   "metadata": {
    "ExecuteTime": {
     "end_time": "2018-04-04T17:22:31.607233Z",
     "start_time": "2018-04-04T17:22:31.601036Z"
    }
   },
   "outputs": [
    {
     "data": {
      "text/plain": [
       "(55000, 784)"
      ]
     },
     "execution_count": 4,
     "metadata": {},
     "output_type": "execute_result"
    }
   ],
   "source": [
    "X_train.shape"
   ]
  },
  {
   "cell_type": "code",
   "execution_count": 5,
   "metadata": {
    "ExecuteTime": {
     "end_time": "2018-04-04T17:22:31.998119Z",
     "start_time": "2018-04-04T17:22:31.996342Z"
    },
    "collapsed": true
   },
   "outputs": [],
   "source": [
    "X_test = mnist.test.images\n",
    "y_test = mnist.test.labels"
   ]
  },
  {
   "cell_type": "markdown",
   "metadata": {},
   "source": [
    "### Parameters"
   ]
  },
  {
   "cell_type": "code",
   "execution_count": 6,
   "metadata": {
    "ExecuteTime": {
     "end_time": "2018-04-04T17:22:32.842400Z",
     "start_time": "2018-04-04T17:22:32.836905Z"
    },
    "collapsed": true
   },
   "outputs": [],
   "source": [
    "#Size of training data\n",
    "N = X_train.shape[0]\n",
    "#Dimensions of input placeholder\n",
    "I = X_train.shape[1]\n",
    "\n",
    "#Possible output labels\n",
    "K = 10\n",
    "#Batch size\n",
    "M = 128\n",
    "#Size of hidden units\n",
    "H= 1024\n",
    "#Number of initial convolution features\n",
    "U= 32\n",
    "\n",
    "#Dimension of input to FC layer\n",
    "D = 7*7*(U*2)"
   ]
  },
  {
   "cell_type": "markdown",
   "metadata": {},
   "source": [
    "## Create Batches"
   ]
  },
  {
   "cell_type": "code",
   "execution_count": 7,
   "metadata": {
    "ExecuteTime": {
     "end_time": "2018-04-04T17:22:34.266819Z",
     "start_time": "2018-04-04T17:22:34.252798Z"
    },
    "collapsed": true
   },
   "outputs": [],
   "source": [
    "def generator(arrays, batch_size):\n",
    "  \"\"\"Generate batches, one with respect to each array's first axis.\"\"\"\n",
    "  starts = [0] * len(arrays)  # pointers to where we are in iteration\n",
    "  while True:\n",
    "    batches = []\n",
    "    for i, array in enumerate(arrays):\n",
    "      start = starts[i]\n",
    "      stop = start + batch_size\n",
    "      diff = stop - array.shape[0]\n",
    "      if diff <= 0:\n",
    "        batch = array[start:stop]\n",
    "        starts[i] += batch_size\n",
    "      else:\n",
    "        batch = np.concatenate((array[start:], array[:diff]))\n",
    "        starts[i] = diff\n",
    "      batches.append(batch)\n",
    "    yield batches\n",
    "data = generator([X_train, y], M)"
   ]
  },
  {
   "cell_type": "markdown",
   "metadata": {},
   "source": [
    "## Model"
   ]
  },
  {
   "cell_type": "code",
   "execution_count": 23,
   "metadata": {
    "ExecuteTime": {
     "end_time": "2018-04-04T17:30:34.189205Z",
     "start_time": "2018-04-04T17:30:34.183325Z"
    },
    "collapsed": true
   },
   "outputs": [],
   "source": [
    "def conv2d(x, W):\n",
    "    return tf.nn.conv2d(x, W, strides= [1,1,1,1], padding= \"SAME\")\n",
    "\n",
    "def max_pool_2x2(x):\n",
    "    return tf.nn.max_pool(x, ksize= [1,2,2,1], strides= [1,2,2,1], padding= \"SAME\")"
   ]
  },
  {
   "cell_type": "code",
   "execution_count": 24,
   "metadata": {
    "ExecuteTime": {
     "end_time": "2018-04-04T17:30:34.453900Z",
     "start_time": "2018-04-04T17:30:34.415870Z"
    },
    "collapsed": true
   },
   "outputs": [],
   "source": [
    "def weight(shape):\n",
    "    return Normal(loc=tf.zeros(shape), scale=tf.ones(shape))\n",
    "\n",
    "def bias(shape):\n",
    "    return Normal(loc=tf.zeros(shape), scale=tf.ones(shape))\n",
    "    \n",
    "def variables():\n",
    "    var = {}\n",
    "    #Placeholder variables for input and output\n",
    "    var['x'] = tf.placeholder(tf.float32, shape=[None, I])\n",
    "    var['y'] = tf.placeholder(tf.int32, shape=[None])\n",
    "    \n",
    "    #loc is the mean and scale is the variance\n",
    "    var['Wconv0'] = weight([5,5,1,U])\n",
    "    var['bconv0'] = bias([U])\n",
    "    \n",
    "    var['Wconv1'] = weight([5,5,U,U*2])\n",
    "    var['bconv1'] = bias([U*2])\n",
    "\n",
    "    var['W0'] = weight([D, H])\n",
    "    var['b0'] = bias(H)\n",
    "\n",
    "    var['W1'] = weight([H, K])\n",
    "    var['b1'] = bias(K)\n",
    "\n",
    "    return (var)"
   ]
  },
  {
   "cell_type": "code",
   "execution_count": 25,
   "metadata": {
    "ExecuteTime": {
     "end_time": "2018-04-04T17:30:34.661204Z",
     "start_time": "2018-04-04T17:30:34.630231Z"
    },
    "collapsed": true
   },
   "outputs": [],
   "source": [
    "def model(var):\n",
    "    x = var['x']\n",
    "\n",
    "    x = tf.reshape(x, [-1, 28, 28, 1])\n",
    "    \n",
    "    #Convolution layer 1\n",
    "    x = tf.nn.tanh(conv2d(x, var['Wconv0']) + var['bconv0'] )\n",
    "    x = max_pool_2x2(x)\n",
    "    \n",
    "    #Convolution layer 2\n",
    "    x = tf.nn.tanh(conv2d(x, var['Wconv1']) + var['bconv1'])\n",
    "    x = max_pool_2x2(x)\n",
    "    \n",
    "    #Flatten\n",
    "    x = tf.reshape(x, [-1, D])\n",
    "    \n",
    "    #FC layer 1\n",
    "    x = tf.nn.tanh(tf.matmul(x, var['W0']) + var['b0'])\n",
    "    \n",
    "    #FC layer 2\n",
    "    x = tf.matmul(x, var['W1']) + var['b1']\n",
    "    \n",
    "    logits = x\n",
    "    \n",
    "    output = Categorical(logits)\n",
    "    \n",
    "    return output"
   ]
  },
  {
   "cell_type": "code",
   "execution_count": 26,
   "metadata": {
    "ExecuteTime": {
     "end_time": "2018-04-04T17:30:34.907715Z",
     "start_time": "2018-04-04T17:30:34.854369Z"
    },
    "collapsed": true
   },
   "outputs": [],
   "source": [
    "def qweight(shape):\n",
    "    return Normal(loc=tf.Variable(tf.random_normal(shape)),\n",
    "                  scale=tf.nn.softplus(tf.Variable(1/100 *tf.random_normal(shape))))\n",
    "\n",
    "def qbias(shape):\n",
    "    return Normal(loc=tf.Variable(tf.random_normal(shape)),\n",
    "                  scale=tf.nn.softplus(tf.Variable(1/100 *tf.random_normal(shape))))\n",
    "\n",
    "def approximation_variables():\n",
    "    qvar = {}\n",
    "    \n",
    "    qvar['Wconv0'] = qweight([5,5,1,U])\n",
    "    qvar['bconv0'] = qbias([U])\n",
    "    \n",
    "    qvar['Wconv1'] = qweight([5,5,U,U*2])\n",
    "    qvar['bconv1'] = qbias([U*2])\n",
    "\n",
    "    qvar['W0'] = qweight([D, H])\n",
    "    qvar['b0'] = qbias([H])\n",
    "                     \n",
    "    qvar['W1'] = qweight([H, K])\n",
    "    qvar['b1'] = qbias([K])\n",
    "    \n",
    "    return qvar"
   ]
  },
  {
   "cell_type": "markdown",
   "metadata": {},
   "source": [
    "## Inference"
   ]
  },
  {
   "cell_type": "code",
   "execution_count": 39,
   "metadata": {
    "ExecuteTime": {
     "end_time": "2018-04-04T17:35:35.588799Z",
     "start_time": "2018-04-04T17:35:32.502202Z"
    },
    "collapsed": true
   },
   "outputs": [],
   "source": [
    "var = variables()\n",
    "output = model(var)\n",
    "qvar = approximation_variables()\n",
    "\n",
    "inference_dict = {var[key]: val for key, val in qvar.items()}\n",
    "inference = ed.KLqp(inference_dict, data={output:var['y']})\n",
    "\n",
    "#Number of batches with the specified batch size\n",
    "n_batch = int(N / M)\n",
    "n_epoch = 3\n",
    "\n",
    "inference.initialize(n_iter=n_batch*n_epoch, n_samples=10,\n",
    "                     scale={output: n_batch})\n",
    "tf.global_variables_initializer().run()"
   ]
  },
  {
   "cell_type": "code",
   "execution_count": 40,
   "metadata": {
    "ExecuteTime": {
     "end_time": "2018-04-04T17:44:51.761902Z",
     "start_time": "2018-04-04T17:35:35.589719Z"
    }
   },
   "outputs": [
    {
     "name": "stdout",
     "output_type": "stream",
     "text": [
      "Loss:  {'t': 12870, 'loss': 295677.59}\r"
     ]
    }
   ],
   "source": [
    "for _ in range(inference.n_iter):\n",
    "    X_batch, y_batch = next(data)\n",
    "    for _ in range(10):\n",
    "        info_dict = inference.update(feed_dict={var['x']: X_batch, var['y']: y_batch})\n",
    "    print('Loss: ',info_dict,  end=\"\\r\", flush=True)\n"
   ]
  },
  {
   "cell_type": "markdown",
   "metadata": {},
   "source": [
    "## Criticism/Evaluation"
   ]
  },
  {
   "cell_type": "code",
   "execution_count": 50,
   "metadata": {
    "ExecuteTime": {
     "end_time": "2018-04-04T17:53:12.817602Z",
     "start_time": "2018-04-04T17:53:12.519676Z"
    }
   },
   "outputs": [
    {
     "name": "stdout",
     "output_type": "stream",
     "text": [
      "Extracting notMNIST_data/train-images-idx3-ubyte.gz\n",
      "Extracting notMNIST_data/train-labels-idx1-ubyte.gz\n",
      "Extracting notMNIST_data/t10k-images-idx3-ubyte.gz\n",
      "Extracting notMNIST_data/t10k-labels-idx1-ubyte.gz\n"
     ]
    }
   ],
   "source": [
    "#Out of distribution data for evaluating uncertainty estimation quality\n",
    "nmnist = input_data.read_data_sets(\"notMNIST_data/\")\n",
    "X_test = nmnist.test.images\n",
    "y_test = nmnist.test.labels"
   ]
  },
  {
   "cell_type": "code",
   "execution_count": 51,
   "metadata": {
    "ExecuteTime": {
     "end_time": "2018-04-04T17:53:48.125878Z",
     "start_time": "2018-04-04T17:53:14.221157Z"
    }
   },
   "outputs": [
    {
     "name": "stderr",
     "output_type": "stream",
     "text": [
      "100%|██████████| 50/50 [00:33<00:00,  1.47it/s]\n"
     ]
    }
   ],
   "source": [
    "n_samples = 50\n",
    "pred_lst = []\n",
    "#Make sample models drawn from posterior evaluated on the test set\n",
    "for _ in tqdm(range(n_samples)):\n",
    "    param_post = {key: qvar[key].sample()\n",
    "                      if key in qvar else var[key]\n",
    "                      for key in var}\n",
    "    preds = tf.nn.softmax(model(param_post).logits)\n",
    "    np_preds = preds.eval(feed_dict={param_post['x']: X_test})\n",
    "    pred_lst.append(np_preds)\n"
   ]
  },
  {
   "cell_type": "code",
   "execution_count": 52,
   "metadata": {
    "ExecuteTime": {
     "end_time": "2018-04-04T17:53:48.212680Z",
     "start_time": "2018-04-04T17:53:48.126846Z"
    }
   },
   "outputs": [
    {
     "data": {
      "image/png": "[encoded data removed]",
      "text/plain": [
       "<matplotlib.figure.Figure at 0x7f8c064db588>"
      ]
     },
     "metadata": {},
     "output_type": "display_data"
    }
   ],
   "source": [
    "accy_test = []\n",
    "for pred in pred_lst:\n",
    "    y_trn_prd = np.argmax(pred,axis=1).astype(np.float32)\n",
    "    acc = (y_trn_prd == y_test).mean()*100\n",
    "    accy_test.append(acc)\n",
    "\n",
    "plt.hist(accy_test)\n",
    "plt.xlabel(\"Accuracy\")\n",
    "plt.ylabel(\"Frequency\")\n",
    "plt.title(\"Predictive Accuracy - 50 samples\")\n",
    "plt.show()"
   ]
  },
  {
   "cell_type": "code",
   "execution_count": 53,
   "metadata": {
    "ExecuteTime": {
     "end_time": "2018-04-04T17:53:48.220652Z",
     "start_time": "2018-04-04T17:53:48.213850Z"
    }
   },
   "outputs": [
    {
     "name": "stdout",
     "output_type": "stream",
     "text": [
      " Accuracy on test set=  13.7\n"
     ]
    }
   ],
   "source": [
    "#Model Averaging\n",
    "y_pred = np.argmax(np.mean(pred_lst,axis=0),axis=1)\n",
    "print(\" Accuracy on test set= \", (y_pred == y_test).mean()*100)"
   ]
  },
  {
   "cell_type": "code",
   "execution_count": 54,
   "metadata": {
    "ExecuteTime": {
     "end_time": "2018-04-04T17:53:48.235429Z",
     "start_time": "2018-04-04T17:53:48.221463Z"
    },
    "collapsed": true
   },
   "outputs": [],
   "source": [
    "preds = np.argmax(np.array(pred_lst),axis=2)"
   ]
  },
  {
   "cell_type": "code",
   "execution_count": 55,
   "metadata": {
    "ExecuteTime": {
     "end_time": "2018-04-04T17:53:48.296388Z",
     "start_time": "2018-04-04T17:53:48.236242Z"
    }
   },
   "outputs": [
    {
     "name": "stdout",
     "output_type": "stream",
     "text": [
      "truth =  1\n"
     ]
    },
    {
     "data": {
      "image/png": "[encoded data removed]",
      "text/plain": [
       "<matplotlib.figure.Figure at 0x7f8c013fdb38>"
      ]
     },
     "metadata": {},
     "output_type": "display_data"
    }
   ],
   "source": [
    "test_ind =1178\n",
    "test_image = X_test[test_ind]\n",
    "test_label = y_test[test_ind]\n",
    "print('truth = ',test_label)\n",
    "pixels = test_image.reshape((28, 28))\n",
    "plt.imshow(pixels, cmap='Reds');"
   ]
  },
  {
   "cell_type": "code",
   "execution_count": 56,
   "metadata": {
    "ExecuteTime": {
     "end_time": "2018-04-04T17:53:48.374346Z",
     "start_time": "2018-04-04T17:53:48.297303Z"
    }
   },
   "outputs": [
    {
     "data": {
      "text/plain": [
       "(array([  0.,   0.,   0.,  43.,   7.,   0.,   0.,   0.,   0.,   0.]),\n",
       " array([ 0,  1,  2,  3,  4,  5,  6,  7,  8,  9, 10]),\n",
       " <a list of 10 Patch objects>)"
      ]
     },
     "execution_count": 56,
     "metadata": {},
     "output_type": "execute_result"
    },
    {
     "data": {
      "image/png": "[encoded data removed]",
      "text/plain": [
       "<matplotlib.figure.Figure at 0x7f8c0651ab38>"
      ]
     },
     "metadata": {},
     "output_type": "display_data"
    }
   ],
   "source": [
    "plt.hist((preds[:, test_ind]),bins=range(11))"
   ]
  },
  {
   "cell_type": "code",
   "execution_count": 57,
   "metadata": {
    "ExecuteTime": {
     "end_time": "2018-04-04T17:53:49.102351Z",
     "start_time": "2018-04-04T17:53:48.375229Z"
    }
   },
   "outputs": [
    {
     "name": "stderr",
     "output_type": "stream",
     "text": [
      "100%|██████████| 10000/10000 [00:00<00:00, 13874.06it/s]\n"
     ]
    }
   ],
   "source": [
    "entropies1 = []\n",
    "n=len(y_test)\n",
    "\n",
    "def predictive_entropy(prob):\n",
    "        return -1 * np.sum(np.log(prob) * prob, axis=0)\n",
    "for x in tqdm(range(n)):\n",
    "    p, _ = np.histogram(preds[:,x], bins=range(10), normed=True)\n",
    "    entropies1.append(predictive_entropy(p[p != 0]))"
   ]
  },
  {
   "cell_type": "code",
   "execution_count": 67,
   "metadata": {
    "ExecuteTime": {
     "end_time": "2018-04-04T18:32:24.189843Z",
     "start_time": "2018-04-04T18:32:24.087691Z"
    }
   },
   "outputs": [
    {
     "data": {
      "text/plain": [
       "Text(0.5,1,'MNIST - 0.1803')"
      ]
     },
     "execution_count": 67,
     "metadata": {},
     "output_type": "execute_result"
    },
    {
     "data": {
      "image/png": "[encoded data removed]",
      "text/plain": [
       "<matplotlib.figure.Figure at 0x7f8c00f15630>"
      ]
     },
     "metadata": {},
     "output_type": "display_data"
    }
   ],
   "source": [
    "p, x = np.histogram(entropies, bins=50)\n",
    "plt.plot(x[1:], p)\n",
    "plt.xlabel(\"Entropy\")\n",
    "plt.ylabel(\"Samples\")\n",
    "sum_ent=np.float16(np.sum(entropies)/n)\n",
    "plt.title(\"MNIST - %s\" %sum_ent)"
   ]
  },
  {
   "cell_type": "markdown",
   "metadata": {},
   "source": [
    "This was a demonstration of Bayesian deep neural networks with Edward. An interesting follow up excersice is to prune weights, i.e., set uncertain weights to 0. [This](https://arxiv.org/pdf/1505.05424.pdf) paper shows that it is possible to prune weights with high signal to noise ratio with minimal hit on accuracy. Weights to prune can be identified by\n",
    "$$\\frac{|\\mu_i|}{\\sigma_i}$$\n",
    "A bayesian model gives us both mean and variance of a weight and all we need to do is identify the weights with the smallest ratios and set n% of them to 0. Here is some code to make this clearer. \n",
    "Hint:This can lead to some interesting observations. Pruning weights may not actually be a good thing."
   ]
  },
  {
   "cell_type": "code",
   "execution_count": 70,
   "metadata": {
    "ExecuteTime": {
     "end_time": "2018-04-03T13:20:50.080330Z",
     "start_time": "2018-04-03T13:20:49.439072Z"
    }
   },
   "outputs": [
    {
     "data": {
      "text/plain": [
       "array([ 0.67664266,  0.31034687,  6.23156929,  1.44606054,  3.39092922,\n",
       "        3.11480641,  3.05162883,  1.23227096,  3.20465231,  7.10845947], dtype=float32)"
      ]
     },
     "execution_count": 70,
     "metadata": {},
     "output_type": "execute_result"
    }
   ],
   "source": [
    "b1 = qvar['b1']\n",
    "\n",
    "mean = b1.mean().eval()\n",
    "std = b1.stddev().eval()\n",
    "\n",
    "np.abs(mean)/std"
   ]
  },
  {
   "cell_type": "markdown",
   "metadata": {},
   "source": [
    "## References\n",
    "- Edward [Tutorials](http://edwardlib.org/tutorials/)\n",
    "- Alpha-I Blog [Post](https://www.alpha-i.co/blog/MNIST-for-ML-beginners-The-Bayesian-Way.html)\n",
    "- Tensorflow [Tutorial](https://www.tensorflow.org/tutorials/layers)\n",
    "- Uncertainty in weights [paper](https://arxiv.org/pdf/1505.05424.pdf)"
   ]
  }
 ],
 "metadata": {
  "kernelspec": {
   "display_name": "Python 3",
   "language": "python",
   "name": "python3"
  },
  "language_info": {
   "codemirror_mode": {
    "name": "ipython",
    "version": 3
   },
   "file_extension": ".py",
   "mimetype": "text/x-python",
   "name": "python",
   "nbconvert_exporter": "python",
   "pygments_lexer": "ipython3",
   "version": "3.6.4"
  }
 },
 "nbformat": 4,
 "nbformat_minor": 2
}

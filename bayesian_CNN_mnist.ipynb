{
 "cells": [
  {
   "cell_type": "markdown",
   "metadata": {},
   "source": [
    "# Bayesian Convolutional Neural Network with Variational Inference"
   ]
  },
  {
   "cell_type": "code",
   "execution_count": 1,
   "metadata": {
    "ExecuteTime": {
     "end_time": "2018-03-29T16:34:20.821347Z",
     "start_time": "2018-03-29T16:34:18.354601Z"
    },
    "collapsed": true
   },
   "outputs": [],
   "source": [
    "%matplotlib inline\n",
    "\n",
    "import numpy as np\n",
    "import tensorflow as tf\n",
    "import edward as ed\n",
    "import matplotlib.pyplot as plt\n",
    "\n",
    "from edward.models import Normal, Categorical\n",
    "from sklearn.model_selection import train_test_split\n",
    "from tensorflow.examples.tutorials.mnist import input_data\n",
    "\n",
    "from tqdm import tqdm\n",
    "plt.style.use('ggplot')"
   ]
  },
  {
   "cell_type": "markdown",
   "metadata": {},
   "source": [
    "## Load Data"
   ]
  },
  {
   "cell_type": "code",
   "execution_count": 2,
   "metadata": {
    "ExecuteTime": {
     "end_time": "2018-03-29T16:34:21.065906Z",
     "start_time": "2018-03-29T16:34:20.822409Z"
    }
   },
   "outputs": [
    {
     "name": "stdout",
     "output_type": "stream",
     "text": [
      "Extracting MNIST_data/train-images-idx3-ubyte.gz\n",
      "Extracting MNIST_data/train-labels-idx1-ubyte.gz\n",
      "Extracting MNIST_data/t10k-images-idx3-ubyte.gz\n",
      "Extracting MNIST_data/t10k-labels-idx1-ubyte.gz\n"
     ]
    }
   ],
   "source": [
    "mnist = input_data.read_data_sets(\"MNIST_data/\")"
   ]
  },
  {
   "cell_type": "code",
   "execution_count": 3,
   "metadata": {
    "ExecuteTime": {
     "end_time": "2018-03-29T16:34:21.069070Z",
     "start_time": "2018-03-29T16:34:21.066811Z"
    },
    "collapsed": true
   },
   "outputs": [],
   "source": [
    "X_train = mnist.train.images\n",
    "y = mnist.train.labels\n",
    "X_test = mnist.test.images\n",
    "y_test = mnist.test.labels"
   ]
  },
  {
   "cell_type": "markdown",
   "metadata": {},
   "source": [
    "### Small data\n",
    "Bayesian models are extremely powerful when dealing with less data. Training data with 500 samples can give 90%+ accuracy. "
   ]
  },
  {
   "cell_type": "code",
   "execution_count": null,
   "metadata": {
    "ExecuteTime": {
     "end_time": "2018-03-29T13:28:24.794826Z",
     "start_time": "2018-03-29T13:28:24.395Z"
    },
    "collapsed": true
   },
   "outputs": [],
   "source": [
    "X_train, X_test, y_train, y_test = train_test_split(\n",
    "     X_train, y, test_size=0.99, random_state=42, stratify=y)"
   ]
  },
  {
   "cell_type": "markdown",
   "metadata": {},
   "source": [
    "### Parameters"
   ]
  },
  {
   "cell_type": "code",
   "execution_count": 4,
   "metadata": {
    "ExecuteTime": {
     "end_time": "2018-03-29T16:34:21.075375Z",
     "start_time": "2018-03-29T16:34:21.070232Z"
    },
    "collapsed": true
   },
   "outputs": [],
   "source": [
    "#Size of training data\n",
    "N = X_train.shape[0]\n",
    "#Dimensions of input placeholder\n",
    "I = X_train.shape[1]\n",
    "\n",
    "#Possible output labels\n",
    "K = 10\n",
    "#Batch size\n",
    "M = 128\n",
    "#Size of hidden units\n",
    "H= 1024\n",
    "#Number of initial convolution features\n",
    "U= 32\n",
    "\n",
    "#Dimension of input to FC layer\n",
    "D = 7*7*(U*2)"
   ]
  },
  {
   "cell_type": "markdown",
   "metadata": {},
   "source": [
    "## Create Batches"
   ]
  },
  {
   "cell_type": "code",
   "execution_count": 5,
   "metadata": {
    "ExecuteTime": {
     "end_time": "2018-03-29T16:34:21.233724Z",
     "start_time": "2018-03-29T16:34:21.223271Z"
    },
    "collapsed": true
   },
   "outputs": [],
   "source": [
    "def generator(arrays, batch_size):\n",
    "  \"\"\"Generate batches, one with respect to each array's first axis.\"\"\"\n",
    "  starts = [0] * len(arrays)  # pointers to where we are in iteration\n",
    "  while True:\n",
    "    batches = []\n",
    "    for i, array in enumerate(arrays):\n",
    "      start = starts[i]\n",
    "      stop = start + batch_size\n",
    "      diff = stop - array.shape[0]\n",
    "      if diff <= 0:\n",
    "        batch = array[start:stop]\n",
    "        starts[i] += batch_size\n",
    "      else:\n",
    "        batch = np.concatenate((array[start:], array[:diff]))\n",
    "        starts[i] = diff\n",
    "      batches.append(batch)\n",
    "    yield batches\n",
    "data = generator([X_train, y], M)"
   ]
  },
  {
   "cell_type": "markdown",
   "metadata": {},
   "source": [
    "## Model"
   ]
  },
  {
   "cell_type": "code",
   "execution_count": 6,
   "metadata": {
    "ExecuteTime": {
     "end_time": "2018-03-29T16:34:21.606242Z",
     "start_time": "2018-03-29T16:34:21.602203Z"
    },
    "collapsed": true
   },
   "outputs": [],
   "source": [
    "def conv2d(x, W):\n",
    "    return tf.nn.conv2d(x, W, strides= [1,1,1,1], padding= \"SAME\")\n",
    "\n",
    "def max_pool_2x2(x):\n",
    "    return tf.nn.max_pool(x, ksize= [1,2,2,1], strides= [1,2,2,1], padding= \"SAME\")"
   ]
  },
  {
   "cell_type": "code",
   "execution_count": 7,
   "metadata": {
    "ExecuteTime": {
     "end_time": "2018-03-29T16:34:21.829791Z",
     "start_time": "2018-03-29T16:34:21.801876Z"
    },
    "collapsed": true
   },
   "outputs": [],
   "source": [
    "def weight(shape):\n",
    "    return Normal(loc=tf.zeros(shape), scale=tf.ones(shape))\n",
    "\n",
    "def bias(shape):\n",
    "    return Normal(loc=tf.zeros(shape), scale=tf.ones(shape))\n",
    "    \n",
    "def variables():\n",
    "    var = {}\n",
    "    #Placeholder variables for input and output\n",
    "    var['x'] = tf.placeholder(tf.float32, shape=[None, I])\n",
    "    var['y'] = tf.placeholder(tf.int32, shape=[None])\n",
    "    \n",
    "    #loc is the mean and scale is the variance\n",
    "    var['Wconv0'] = weight([5,5,1,U])\n",
    "    var['bconv0'] = bias([U])\n",
    "    \n",
    "    var['Wconv1'] = weight([5,5,U,U*2])\n",
    "    var['bconv1'] = bias([U*2])\n",
    "\n",
    "    var['W0'] = weight([D, H])\n",
    "    var['b0'] = bias(H)\n",
    "\n",
    "    var['W1'] = weight([H, K])\n",
    "    var['b1'] = bias(K)\n",
    "\n",
    "    return (var)"
   ]
  },
  {
   "cell_type": "code",
   "execution_count": 8,
   "metadata": {
    "ExecuteTime": {
     "end_time": "2018-03-29T16:34:22.200126Z",
     "start_time": "2018-03-29T16:34:22.185040Z"
    },
    "collapsed": true
   },
   "outputs": [],
   "source": [
    "def model(var):\n",
    "    x = var['x']\n",
    "\n",
    "    x = tf.reshape(x, [-1, 28, 28, 1])\n",
    "    \n",
    "    #Convolution layer 1\n",
    "    x = tf.nn.tanh(conv2d(x, var['Wconv0']) + var['bconv0'] )\n",
    "    x = max_pool_2x2(x)\n",
    "    \n",
    "    #Convolution layer 2\n",
    "    x = tf.nn.tanh(conv2d(x, var['Wconv1']) + var['bconv1'])\n",
    "    x = max_pool_2x2(x)\n",
    "    \n",
    "    #Flatten\n",
    "    x = tf.reshape(x, [-1, D])\n",
    "    \n",
    "    #FC layer 1\n",
    "    x = tf.tanh(tf.matmul(x, var['W0']) + var['b0'])\n",
    "    \n",
    "    #FC layer 2\n",
    "    x = tf.matmul(x, var['W1']) + var['b1']\n",
    "    \n",
    "    logits = x\n",
    "    \n",
    "    output = Categorical(logits)\n",
    "    \n",
    "    return output"
   ]
  },
  {
   "cell_type": "code",
   "execution_count": 9,
   "metadata": {
    "ExecuteTime": {
     "end_time": "2018-03-29T16:34:22.471470Z",
     "start_time": "2018-03-29T16:34:22.453250Z"
    },
    "collapsed": true
   },
   "outputs": [],
   "source": [
    "def qweight(shape):\n",
    "    return Normal(loc=tf.Variable(tf.random_normal(shape)),\n",
    "                  scale=tf.nn.softplus(tf.Variable(tf.random_normal(shape))))\n",
    "\n",
    "def qbias(shape):\n",
    "    return Normal(loc=tf.Variable(tf.random_normal(shape)),\n",
    "                  scale=tf.nn.softplus(tf.Variable(tf.random_normal(shape))))\n",
    "\n",
    "def approximation_variables():\n",
    "    qvar = {}\n",
    "    \n",
    "    qvar['Wconv0'] = qweight([5,5,1,U])\n",
    "    qvar['bconv0'] = qbias([U])\n",
    "    \n",
    "    qvar['Wconv1'] = qweight([5,5,U,U*2])\n",
    "    qvar['bconv1'] = qbias([U*2])\n",
    "\n",
    "    qvar['W0'] = qweight([D, H])\n",
    "    qvar['b0'] = qbias([H])\n",
    "                     \n",
    "    qvar['W1'] = qweight([H, K])\n",
    "    qvar['b1'] = qbias([K])\n",
    "    \n",
    "    return qvar"
   ]
  },
  {
   "cell_type": "markdown",
   "metadata": {},
   "source": [
    "## Inference"
   ]
  },
  {
   "cell_type": "code",
   "execution_count": 10,
   "metadata": {
    "ExecuteTime": {
     "end_time": "2018-03-29T16:41:00.941566Z",
     "start_time": "2018-03-29T16:34:29.201230Z"
    }
   },
   "outputs": [
    {
     "name": "stdout",
     "output_type": "stream",
     "text": [
      "Loss:  {'t': 8580, 'loss': 390461.75}\r"
     ]
    }
   ],
   "source": [
    "var = variables()\n",
    "output = model(var)\n",
    "qvar = approximation_variables()\n",
    "\n",
    "inference_dict = {var[key]: val for key, val in qvar.items()}\n",
    "inference = ed.KLqp(inference_dict, data={output:var['y']})\n",
    "\n",
    "#Number of batches with the specified batch size\n",
    "n_batch = int(N / M)\n",
    "n_epoch = 2\n",
    "\n",
    "inference.initialize(n_iter=n_batch*n_epoch, n_samples=10,\n",
    "                     scale={output: n_batch})\n",
    "tf.global_variables_initializer().run()\n",
    "for _ in range(inference.n_iter):\n",
    "    X_batch, y_batch = next(data)\n",
    "    for _ in range(10):\n",
    "        info_dict = inference.update(feed_dict={var['x']: X_batch, var['y']: y_batch})\n",
    "    print('Loss: ',info_dict,  end=\"\\r\", flush=True)\n"
   ]
  },
  {
   "cell_type": "markdown",
   "metadata": {},
   "source": [
    "## Criticism/Evaluation"
   ]
  },
  {
   "cell_type": "code",
   "execution_count": 11,
   "metadata": {
    "ExecuteTime": {
     "end_time": "2018-03-29T16:41:13.279778Z",
     "start_time": "2018-03-29T16:41:00.942343Z"
    }
   },
   "outputs": [
    {
     "name": "stderr",
     "output_type": "stream",
     "text": [
      "100%|██████████| 50/50 [00:12<00:00,  4.05it/s]\n"
     ]
    }
   ],
   "source": [
    "n_samples = 50\n",
    "prob_lst = []\n",
    "#Make sample models drawn from posterior evaluated on the test set\n",
    "for _ in tqdm(range(n_samples)):\n",
    "    param_post = {key: qvar[key].sample()\n",
    "                      if key in qvar else var[key]\n",
    "                      for key in var}\n",
    "    probs = tf.nn.softmax(model(param_post).logits)\n",
    "    np_probs = probs.eval(feed_dict={param_post['x']: X_test})\n",
    "    prob_lst.append(np_probs)\n"
   ]
  },
  {
   "cell_type": "code",
   "execution_count": 12,
   "metadata": {
    "ExecuteTime": {
     "end_time": "2018-03-29T16:41:13.396201Z",
     "start_time": "2018-03-29T16:41:13.280989Z"
    }
   },
   "outputs": [
    {
     "data": {
      "image/png": "[encoded data removed]",
      "text/plain": [
       "<matplotlib.figure.Figure at 0x7f38945035c0>"
      ]
     },
     "metadata": {},
     "output_type": "display_data"
    }
   ],
   "source": [
    "accy_test = []\n",
    "for prob in prob_lst:\n",
    "    y_trn_prd = np.argmax(prob,axis=1).astype(np.float32)\n",
    "    acc = (y_trn_prd == y_test).mean()*100\n",
    "    accy_test.append(acc)\n",
    "\n",
    "plt.hist(accy_test)\n",
    "plt.xlabel(\"Accuracy\")\n",
    "plt.ylabel(\"Frequency\")\n",
    "plt.show()"
   ]
  },
  {
   "cell_type": "code",
   "execution_count": 13,
   "metadata": {
    "ExecuteTime": {
     "end_time": "2018-03-29T16:41:13.404340Z",
     "start_time": "2018-03-29T16:41:13.397020Z"
    }
   },
   "outputs": [
    {
     "name": "stdout",
     "output_type": "stream",
     "text": [
      " Accuracy on test set=  94.68\n"
     ]
    }
   ],
   "source": [
    "#Model Averaging\n",
    "y_pred = np.argmax(np.mean(prob_lst,axis=0),axis=1)\n",
    "print(\" Accuracy on test set= \", (y_pred == y_test).mean()*100)"
   ]
  },
  {
   "cell_type": "code",
   "execution_count": 14,
   "metadata": {
    "ExecuteTime": {
     "end_time": "2018-03-29T16:41:13.484177Z",
     "start_time": "2018-03-29T16:41:13.405453Z"
    }
   },
   "outputs": [
    {
     "name": "stdout",
     "output_type": "stream",
     "text": [
      "truth =  8\n"
     ]
    },
    {
     "data": {
      "text/plain": [
       "<matplotlib.image.AxesImage at 0x7f388eb796d8>"
      ]
     },
     "execution_count": 14,
     "metadata": {},
     "output_type": "execute_result"
    },
    {
     "data": {
      "image/png": "[encoded data removed]",
      "text/plain": [
       "<matplotlib.figure.Figure at 0x7f389447b9b0>"
      ]
     },
     "metadata": {},
     "output_type": "display_data"
    }
   ],
   "source": [
    "test_ind = 655\n",
    "\n",
    "test_image = X_test[test_ind]\n",
    "test_label = y_test[test_ind]\n",
    "print('truth = ',test_label)\n",
    "pixels = test_image.reshape((28, 28))\n",
    "plt.imshow(pixels, cmap='Reds')"
   ]
  },
  {
   "cell_type": "code",
   "execution_count": 15,
   "metadata": {
    "ExecuteTime": {
     "end_time": "2018-03-29T16:41:13.499453Z",
     "start_time": "2018-03-29T16:41:13.485049Z"
    },
    "collapsed": true
   },
   "outputs": [],
   "source": [
    "img_probs = []\n",
    "for prob in prob_lst:\n",
    "    y_trn_prd = np.argmax(prob,axis=1).astype(np.float32)\n",
    "    acc = y_trn_prd[test_ind]\n",
    "    img_probs.append(acc)"
   ]
  },
  {
   "cell_type": "code",
   "execution_count": 16,
   "metadata": {
    "ExecuteTime": {
     "end_time": "2018-03-29T16:41:13.568147Z",
     "start_time": "2018-03-29T16:41:13.500399Z"
    }
   },
   "outputs": [
    {
     "data": {
      "image/png": "[encoded data removed]",
      "text/plain": [
       "<matplotlib.figure.Figure at 0x7f389445feb8>"
      ]
     },
     "metadata": {},
     "output_type": "display_data"
    }
   ],
   "source": [
    "plt.hist((img_probs),bins=range(10))\n",
    "plt.xlabel(\"Accuracy\")\n",
    "plt.ylabel(\"Frequency\")\n",
    "plt.show()"
   ]
  },
  {
   "cell_type": "markdown",
   "metadata": {},
   "source": [
    "This was a demonstration of Bayesian deep neural networks with Edward. An interesting follow up excersice is to prune weights, i.e., set uncertain weights to 0. [This](https://arxiv.org/pdf/1505.05424.pdf) paper has shown that it is possible to prune weights with high signal to noise ratio which can be identified by\n",
    "$$\\frac{|\\mu_i|}{\\sigma_i}$$\n",
    "A bayesian model gives us both mean and variance of a weight and all we need to do is identify the weights with the smallest ratios and set n% of them to 0. Here is some code to make this clearer. "
   ]
  },
  {
   "cell_type": "code",
   "execution_count": 86,
   "metadata": {
    "ExecuteTime": {
     "end_time": "2018-03-29T13:50:56.884758Z",
     "start_time": "2018-03-29T13:50:55.983189Z"
    }
   },
   "outputs": [
    {
     "data": {
      "text/plain": [
       "array([  5.82098627,   4.10414982,   2.3308444 ,   0.69474149,\n",
       "         1.33861768,  18.24437141,   1.92107761,   3.41532683,\n",
       "         2.18558359,   5.27593374], dtype=float32)"
      ]
     },
     "execution_count": 86,
     "metadata": {},
     "output_type": "execute_result"
    }
   ],
   "source": [
    "b1 = qvar['b1']\n",
    "\n",
    "mean = b1.mean().eval()\n",
    "std = b1.stddev().eval()\n",
    "\n",
    "np.abs(mean)/std"
   ]
  },
  {
   "cell_type": "markdown",
   "metadata": {},
   "source": [
    "## References\n",
    "- Edward [Tutorials](http://edwardlib.org/tutorials/)\n",
    "- Alpha-I Blog [Post](https://www.alpha-i.co/blog/MNIST-for-ML-beginners-The-Bayesian-Way.html)\n",
    "- Tensorflow [Tutorial](https://www.tensorflow.org/tutorials/layers)\n",
    "- Uncertainty in weights [paper](https://arxiv.org/pdf/1505.05424.pdf)"
   ]
  },
  {
   "cell_type": "code",
   "execution_count": null,
   "metadata": {
    "collapsed": true
   },
   "outputs": [],
   "source": []
  }
 ],
 "metadata": {
  "kernelspec": {
   "display_name": "Python 3",
   "language": "python",
   "name": "python3"
  },
  "language_info": {
   "codemirror_mode": {
    "name": "ipython",
    "version": 3
   },
   "file_extension": ".py",
   "mimetype": "text/x-python",
   "name": "python",
   "nbconvert_exporter": "python",
   "pygments_lexer": "ipython3",
   "version": "3.6.4"
  }
 },
 "nbformat": 4,
 "nbformat_minor": 2
}

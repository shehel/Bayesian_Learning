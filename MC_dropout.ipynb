{
 "cells": [
  {
   "cell_type": "markdown",
   "metadata": {},
   "source": [
    "# MC Dropout\n",
    "Following [this](https://arxiv.org/pdf/1506.02142.pdf) paper to implement MC dropout to get uncertainty from deep NNs using Tensorflow and MNIST."
   ]
  },
  {
   "cell_type": "code",
   "execution_count": 39,
   "metadata": {
    "ExecuteTime": {
     "end_time": "2018-04-02T18:10:37.752076Z",
     "start_time": "2018-04-02T18:10:37.741241Z"
    },
    "collapsed": true
   },
   "outputs": [],
   "source": [
    "%matplotlib inline\n",
    "\n",
    "from tensorflow.examples.tutorials.mnist import input_data\n",
    "import tensorflow as tf\n",
    "import matplotlib.pyplot as plt\n",
    "import numpy as np\n",
    "from sklearn.model_selection import train_test_split\n",
    "\n",
    "\n",
    "from tqdm import tqdm\n",
    "\n",
    "plt.style.use('ggplot')\n",
    "sess = tf.InteractiveSession()"
   ]
  },
  {
   "cell_type": "code",
   "execution_count": 77,
   "metadata": {
    "ExecuteTime": {
     "end_time": "2018-04-02T18:16:56.110521Z",
     "start_time": "2018-04-02T18:16:55.869163Z"
    }
   },
   "outputs": [
    {
     "name": "stdout",
     "output_type": "stream",
     "text": [
      "Extracting MNIST_data/train-images-idx3-ubyte.gz\n",
      "Extracting MNIST_data/train-labels-idx1-ubyte.gz\n",
      "Extracting MNIST_data/t10k-images-idx3-ubyte.gz\n",
      "Extracting MNIST_data/t10k-labels-idx1-ubyte.gz\n"
     ]
    }
   ],
   "source": [
    "mnist = input_data.read_data_sets('MNIST_data/')"
   ]
  },
  {
   "cell_type": "code",
   "execution_count": 78,
   "metadata": {
    "ExecuteTime": {
     "end_time": "2018-04-02T18:16:56.572359Z",
     "start_time": "2018-04-02T18:16:56.566331Z"
    },
    "collapsed": true
   },
   "outputs": [],
   "source": [
    "X_train = mnist.train.images\n",
    "y = mnist.train.labels"
   ]
  },
  {
   "cell_type": "code",
   "execution_count": 4,
   "metadata": {
    "ExecuteTime": {
     "end_time": "2018-04-02T17:38:40.743419Z",
     "start_time": "2018-04-02T17:38:40.694606Z"
    },
    "collapsed": true
   },
   "outputs": [],
   "source": [
    "X_train, X_test, y, y_test = train_test_split(\n",
    "     X_train, y, test_size=0.995, random_state=42, stratify=y)"
   ]
  },
  {
   "cell_type": "code",
   "execution_count": 79,
   "metadata": {
    "ExecuteTime": {
     "end_time": "2018-04-02T18:16:58.203065Z",
     "start_time": "2018-04-02T18:16:58.192155Z"
    }
   },
   "outputs": [
    {
     "data": {
      "text/plain": [
       "(55000, 784)"
      ]
     },
     "execution_count": 79,
     "metadata": {},
     "output_type": "execute_result"
    }
   ],
   "source": [
    "X_train.shape"
   ]
  },
  {
   "cell_type": "code",
   "execution_count": 80,
   "metadata": {
    "ExecuteTime": {
     "end_time": "2018-04-02T18:16:58.461048Z",
     "start_time": "2018-04-02T18:16:58.456615Z"
    },
    "collapsed": true
   },
   "outputs": [],
   "source": [
    "X_test = mnist.test.images\n",
    "y_test = mnist.test.labels"
   ]
  },
  {
   "cell_type": "code",
   "execution_count": 81,
   "metadata": {
    "ExecuteTime": {
     "end_time": "2018-04-02T18:16:58.816850Z",
     "start_time": "2018-04-02T18:16:58.804782Z"
    },
    "collapsed": true
   },
   "outputs": [],
   "source": [
    "N = X_train.shape[0]\n",
    "\n",
    "#Possible output labels\n",
    "K = 10\n",
    "#Batch size\n",
    "M = 128\n",
    "#Size of hidden units\n",
    "H= 1024\n",
    "#Number of initial convolution features\n",
    "U= 32\n",
    "#Dimension of input to FC layer\n",
    "D = 7*7*(U*2)"
   ]
  },
  {
   "cell_type": "code",
   "execution_count": 82,
   "metadata": {
    "ExecuteTime": {
     "end_time": "2018-04-02T18:17:00.078632Z",
     "start_time": "2018-04-02T18:17:00.060159Z"
    },
    "collapsed": true
   },
   "outputs": [],
   "source": [
    "def generator(arrays, batch_size):\n",
    "  \"\"\"Generate batches, one with respect to each array's first axis.\"\"\"\n",
    "  starts = [0] * len(arrays)  # pointers to where we are in iteration\n",
    "  while True:\n",
    "    batches = []\n",
    "    for i, array in enumerate(arrays):\n",
    "      start = starts[i]\n",
    "      stop = start + batch_size\n",
    "      diff = stop - array.shape[0]\n",
    "      if diff <= 0:\n",
    "        batch = array[start:stop]\n",
    "        starts[i] += batch_size\n",
    "      else:\n",
    "        batch = np.concatenate((array[start:], array[:diff]))\n",
    "        starts[i] = diff\n",
    "      batches.append(batch)\n",
    "    yield batches\n",
    "data = generator([X_train, y], M)"
   ]
  },
  {
   "cell_type": "markdown",
   "metadata": {},
   "source": [
    "## Model"
   ]
  },
  {
   "cell_type": "code",
   "execution_count": 83,
   "metadata": {
    "ExecuteTime": {
     "end_time": "2018-04-02T18:17:00.842753Z",
     "start_time": "2018-04-02T18:17:00.820825Z"
    },
    "collapsed": true
   },
   "outputs": [],
   "source": [
    "#Placeholders\n",
    "x_p = tf.placeholder(tf.float32, shape=[None, 784])\n",
    "y_p = tf.placeholder(tf.int64, shape=[None])\n",
    "keep_prob = tf.placeholder(tf.float32)\n",
    "keep_probc = tf.placeholder(tf.float32)"
   ]
  },
  {
   "cell_type": "code",
   "execution_count": 84,
   "metadata": {
    "ExecuteTime": {
     "end_time": "2018-04-02T18:17:01.355962Z",
     "start_time": "2018-04-02T18:17:01.333944Z"
    },
    "collapsed": true
   },
   "outputs": [],
   "source": [
    "def weight(shape):\n",
    "  initial = tf.truncated_normal(shape, stddev=0.1)\n",
    "  return tf.Variable(initial)\n",
    "\n",
    "def bias(shape):\n",
    "  initial = tf.constant(0.1, shape=shape)\n",
    "  return tf.Variable(initial)\n",
    "\n",
    "def conv2d(x, W):\n",
    "  return tf.nn.conv2d(x, W, strides=[1, 1, 1, 1], padding='SAME')\n",
    "\n",
    "def max_pool_2x2(x):\n",
    "  return tf.nn.max_pool(x, ksize=[1, 2, 2, 1],\n",
    "                        strides=[1, 2, 2, 1], padding='SAME')"
   ]
  },
  {
   "cell_type": "code",
   "execution_count": 85,
   "metadata": {
    "ExecuteTime": {
     "end_time": "2018-04-02T18:17:02.733298Z",
     "start_time": "2018-04-02T18:17:02.428910Z"
    },
    "collapsed": true
   },
   "outputs": [],
   "source": [
    "#Model parameters\n",
    "Wconv1 = weight([5, 5, 1, U])\n",
    "bconv1 = bias([U])\n",
    "Wconv2 = weight([5, 5, U, U*2])\n",
    "bconv2 = bias([U*2])\n",
    "\n",
    "W0 = weight([D, H])\n",
    "b0 = bias([H])\n",
    "W1 = weight([H, K])\n",
    "b1 = bias([K])\n",
    "\n",
    "#Model\n",
    "x = tf.reshape(x_p, [-1,28,28,1])\n",
    "x = tf.nn.dropout(x, keep_probc)\n",
    "\n",
    "x = tf.nn.relu(conv2d(x, Wconv1) + bconv1)\n",
    "#x = tf.nn.dropout(x, keep_probc)\n",
    "\n",
    "x = max_pool_2x2(x)\n",
    "x = tf.nn.dropout(x, keep_probc)\n",
    "\n",
    "x = tf.nn.relu(conv2d(x, Wconv2) + bconv2)\n",
    "#x = tf.nn.dropout(x, keep_probc)\n",
    "\n",
    "x = max_pool_2x2(x)\n",
    "x = tf.nn.dropout(x, keep_probc)\n",
    "\n",
    "x = tf.reshape(x, [-1, D])\n",
    "x = tf.nn.relu(tf.matmul(x, W0) + b0)\n",
    "x = tf.nn.dropout(x, keep_prob)\n",
    "\n",
    "output = tf.nn.softmax(tf.matmul(x, W1) + b1)\n",
    "\n",
    "cross_entropy =-tf.reduce_sum(tf.one_hot(y_p, 10)*tf.log(output))\n",
    "train_step = tf.train.AdamOptimizer(1e-4).minimize(cross_entropy)\n",
    "correct_prediction = tf.equal(tf.argmax(output,1), y_p)\n",
    "accuracy = tf.reduce_mean(tf.cast(correct_prediction, tf.float32))\n",
    "sess.run(tf.global_variables_initializer())"
   ]
  },
  {
   "cell_type": "code",
   "execution_count": 104,
   "metadata": {
    "ExecuteTime": {
     "end_time": "2018-04-02T18:22:40.744227Z",
     "start_time": "2018-04-02T18:22:40.734636Z"
    },
    "collapsed": true
   },
   "outputs": [],
   "source": [
    "n_batch = int(N / M)\n",
    "n_epoch = 5*10\n",
    "iters = n_batch*n_epoch\n",
    "dropout = 0.5\n",
    "dropoutc = 0.8"
   ]
  },
  {
   "cell_type": "code",
   "execution_count": 105,
   "metadata": {
    "ExecuteTime": {
     "end_time": "2018-04-02T18:22:51.225746Z",
     "start_time": "2018-04-02T18:22:41.361700Z"
    }
   },
   "outputs": [
    {
     "name": "stdout",
     "output_type": "stream",
     "text": [
      "step 2100, training accuracy 0.992188\r"
     ]
    }
   ],
   "source": [
    "for i in range(iters):\n",
    "  X_batch, y_batch = next(data)\n",
    "  if i%100 == 0:\n",
    "    train_accuracy = accuracy.eval(feed_dict={\n",
    "        x_p:X_batch, y_p: y_batch, keep_prob: dropout, keep_probc:dropoutc})\n",
    "    print(\"step %d, training accuracy %g\"%(i, train_accuracy), end=\"\\r\", flush=True)\n",
    "  train_step.run(feed_dict={x_p: X_batch, y_p: y_batch, keep_prob: dropout, keep_probc:dropoutc})"
   ]
  },
  {
   "cell_type": "markdown",
   "metadata": {},
   "source": [
    "## Evaluation"
   ]
  },
  {
   "cell_type": "code",
   "execution_count": 93,
   "metadata": {
    "ExecuteTime": {
     "end_time": "2018-04-02T18:19:02.617439Z",
     "start_time": "2018-04-02T18:19:02.301665Z"
    }
   },
   "outputs": [
    {
     "name": "stdout",
     "output_type": "stream",
     "text": [
      "Extracting notMNIST_data/train-images-idx3-ubyte.gz\n",
      "Extracting notMNIST_data/train-labels-idx1-ubyte.gz\n",
      "Extracting notMNIST_data/t10k-images-idx3-ubyte.gz\n",
      "Extracting notMNIST_data/t10k-labels-idx1-ubyte.gz\n"
     ]
    }
   ],
   "source": [
    "#Out of distribution data for evaluating uncertainty estimation quality\n",
    "nmnist = input_data.read_data_sets(\"notMNIST_data/\")\n",
    "X_test = nmnist.test.images\n",
    "y_test = nmnist.test.labels"
   ]
  },
  {
   "cell_type": "code",
   "execution_count": 94,
   "metadata": {
    "ExecuteTime": {
     "end_time": "2018-04-02T18:19:03.052123Z",
     "start_time": "2018-04-02T18:19:02.949573Z"
    }
   },
   "outputs": [
    {
     "name": "stdout",
     "output_type": "stream",
     "text": [
      " Accuracy on test set=  16.16\n"
     ]
    }
   ],
   "source": [
    "#Accuracy without MC dropout\n",
    "feed_dict = feed_dict={\n",
    "    x_p: X_test, keep_prob: dropout, keep_probc:dropoutc}\n",
    "pred =output.eval(feed_dict)\n",
    "y_pred = np.argmax(pred,axis=1)\n",
    "print(\" Accuracy on test set= \", (y_pred == y_test).mean()*100)"
   ]
  },
  {
   "cell_type": "code",
   "execution_count": 95,
   "metadata": {
    "ExecuteTime": {
     "end_time": "2018-04-02T18:19:08.052393Z",
     "start_time": "2018-04-02T18:19:03.501390Z"
    }
   },
   "outputs": [
    {
     "name": "stderr",
     "output_type": "stream",
     "text": [
      "100%|██████████| 50/50 [00:04<00:00, 11.02it/s]\n"
     ]
    }
   ],
   "source": [
    "n_samples = 50\n",
    "pred_lst = []\n",
    "feed_dict = feed_dict={\n",
    "    x_p: X_test, keep_prob: dropout, keep_probc:dropoutc}\n",
    "for _ in tqdm(range(n_samples)):\n",
    "    pred =output.eval(feed_dict)\n",
    "    pred_lst.append(pred)"
   ]
  },
  {
   "cell_type": "code",
   "execution_count": 96,
   "metadata": {
    "ExecuteTime": {
     "end_time": "2018-04-02T18:19:08.066960Z",
     "start_time": "2018-04-02T18:19:08.053218Z"
    },
    "collapsed": true
   },
   "outputs": [],
   "source": [
    "preds = np.argmax(np.array(pred_lst),axis=2)"
   ]
  },
  {
   "cell_type": "code",
   "execution_count": 97,
   "metadata": {
    "ExecuteTime": {
     "end_time": "2018-04-02T18:19:08.135483Z",
     "start_time": "2018-04-02T18:19:08.067853Z"
    }
   },
   "outputs": [
    {
     "data": {
      "image/png": "[encoded data removed]",
      "text/plain": [
       "<matplotlib.figure.Figure at 0x7fc76a1cc748>"
      ]
     },
     "metadata": {},
     "output_type": "display_data"
    }
   ],
   "source": [
    "accy_test = []\n",
    "for i in range(n_samples):\n",
    "    y_trn_prd = preds[i,:]\n",
    "    acc = (y_trn_prd == y_test).mean()*100\n",
    "    accy_test.append(acc)\n",
    "plt.hist(accy_test)\n",
    "plt.xlabel(\"Accuracy\")\n",
    "plt.ylabel(\"Frequency\")\n",
    "plt.show()"
   ]
  },
  {
   "cell_type": "code",
   "execution_count": 98,
   "metadata": {
    "ExecuteTime": {
     "end_time": "2018-04-02T18:19:08.143916Z",
     "start_time": "2018-04-02T18:19:08.136528Z"
    }
   },
   "outputs": [
    {
     "name": "stdout",
     "output_type": "stream",
     "text": [
      " Accuracy on test set=  17.61\n"
     ]
    }
   ],
   "source": [
    "#Model Averaging\n",
    "y_pred = np.argmax(np.mean(pred_lst,axis=0),axis=1)\n",
    "print(\" Accuracy on test set= \", (y_pred == y_test).mean()*100)"
   ]
  },
  {
   "cell_type": "code",
   "execution_count": 99,
   "metadata": {
    "ExecuteTime": {
     "end_time": "2018-04-02T18:19:08.214690Z",
     "start_time": "2018-04-02T18:19:08.145088Z"
    }
   },
   "outputs": [
    {
     "name": "stdout",
     "output_type": "stream",
     "text": [
      "truth =  1\n"
     ]
    },
    {
     "data": {
      "image/png": "[encoded data removed]",
      "text/plain": [
       "<matplotlib.figure.Figure at 0x7fc76a14d630>"
      ]
     },
     "metadata": {},
     "output_type": "display_data"
    }
   ],
   "source": [
    "test_ind = 1178\n",
    "\n",
    "test_image = X_test[test_ind]\n",
    "test_label = y_test[test_ind]\n",
    "print('truth = ',test_label)\n",
    "pixels = test_image.reshape((28, 28))\n",
    "plt.imshow(pixels, cmap='Reds');"
   ]
  },
  {
   "cell_type": "code",
   "execution_count": 100,
   "metadata": {
    "ExecuteTime": {
     "end_time": "2018-04-02T18:19:09.210570Z",
     "start_time": "2018-04-02T18:19:09.146145Z"
    }
   },
   "outputs": [
    {
     "data": {
      "text/plain": [
       "(array([  0.,   0.,   0.,   4.,   0.,   0.,  46.,   0.,   0.,   0.]),\n",
       " array([ 0,  1,  2,  3,  4,  5,  6,  7,  8,  9, 10]),\n",
       " <a list of 10 Patch objects>)"
      ]
     },
     "execution_count": 100,
     "metadata": {},
     "output_type": "execute_result"
    },
    {
     "data": {
      "image/png": "[encoded data removed]",
      "text/plain": [
       "<matplotlib.figure.Figure at 0x7fc76a1ac710>"
      ]
     },
     "metadata": {},
     "output_type": "display_data"
    }
   ],
   "source": [
    "plt.hist((preds[:, test_ind]),bins=range(11))"
   ]
  },
  {
   "cell_type": "code",
   "execution_count": 101,
   "metadata": {
    "ExecuteTime": {
     "end_time": "2018-04-02T18:19:19.146026Z",
     "start_time": "2018-04-02T18:19:18.453901Z"
    }
   },
   "outputs": [
    {
     "name": "stderr",
     "output_type": "stream",
     "text": [
      "100%|██████████| 10000/10000 [00:00<00:00, 14605.17it/s]\n"
     ]
    }
   ],
   "source": [
    "entropies1 = []\n",
    "def predictive_entropy(prob):\n",
    "        return -1 * np.sum(np.log(prob) * prob, axis=0)\n",
    "for x in tqdm(range(10000)):\n",
    "    p, _ = np.histogram(preds[:,x], bins=range(10), normed=True)\n",
    "    entropies1.append(predictive_entropy(p[p != 0]))"
   ]
  },
  {
   "cell_type": "code",
   "execution_count": 102,
   "metadata": {
    "ExecuteTime": {
     "end_time": "2018-04-02T18:19:20.715194Z",
     "start_time": "2018-04-02T18:19:20.650713Z"
    }
   },
   "outputs": [
    {
     "data": {
      "image/png": "[encoded data removed]",
      "text/plain": [
       "<matplotlib.figure.Figure at 0x7fc76a095a90>"
      ]
     },
     "metadata": {},
     "output_type": "display_data"
    },
    {
     "name": "stdout",
     "output_type": "stream",
     "text": [
      "6203.80041839\n"
     ]
    }
   ],
   "source": [
    "n=len(y_test)\n",
    "p, x = np.histogram(entropies1, bins=50)\n",
    "plt.plot(x[1:], p)\n",
    "plt.show()\n",
    "print (np.sum(entropies1))"
   ]
  }
 ],
 "metadata": {
  "kernelspec": {
   "display_name": "Python 3",
   "language": "python",
   "name": "python3"
  },
  "language_info": {
   "codemirror_mode": {
    "name": "ipython",
    "version": 3
   },
   "file_extension": ".py",
   "mimetype": "text/x-python",
   "name": "python",
   "nbconvert_exporter": "python",
   "pygments_lexer": "ipython3",
   "version": "3.6.4"
  }
 },
 "nbformat": 4,
 "nbformat_minor": 2
}
